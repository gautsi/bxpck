{
 "cells": [
  {
   "cell_type": "code",
   "execution_count": 30,
   "metadata": {
    "collapsed": false
   },
   "outputs": [],
   "source": [
    "import pandas as pd\n",
    "import numpy as np\n",
    "import matplotlib.pyplot as plt\n",
    "import seaborn as sns\n",
    "from matplotlib import collections  as mc\n",
    "from mpl_toolkits.mplot3d import Axes3D"
   ]
  },
  {
   "cell_type": "code",
   "execution_count": 3,
   "metadata": {
    "collapsed": true
   },
   "outputs": [],
   "source": [
    "%matplotlib inline"
   ]
  },
  {
   "cell_type": "code",
   "execution_count": 136,
   "metadata": {
    "collapsed": true
   },
   "outputs": [],
   "source": [
    "color_list = ['g', 'r', 'c', 'm', 'k', 'y']"
   ]
  },
  {
   "cell_type": "code",
   "execution_count": 4,
   "metadata": {
    "collapsed": false
   },
   "outputs": [],
   "source": [
    "boxdf = pd.read_csv('box.csv')\n",
    "proddf = pd.read_csv('sku.csv')"
   ]
  },
  {
   "cell_type": "code",
   "execution_count": 5,
   "metadata": {
    "collapsed": false
   },
   "outputs": [],
   "source": [
    "# add columns with shorter names\n",
    "boxdf['w'] = boxdf['Box_width (in)']\n",
    "boxdf['l'] = boxdf['Box_length (in)']\n",
    "boxdf['h'] = boxdf['Box_height (in)']\n",
    "proddf['w'] = proddf['Width (in)']\n",
    "proddf['l'] = proddf['Length (in)']\n",
    "proddf['h'] = proddf['Height (in)']\n",
    "proddf['weight'] = proddf['Weight (oz)']\n",
    "\n",
    "# add volume and surface area columns\n",
    "boxdf['v'] = boxdf.w*boxdf.l*boxdf.h\n",
    "boxdf['sa'] = 2*boxdf.w*boxdf.l + 2*boxdf.w*boxdf.h + 2*boxdf.h*boxdf.l\n",
    "proddf['v'] = proddf.w*proddf.l*proddf.h\n",
    "proddf['sa'] = 2*proddf.w*proddf.l + 2*proddf.w*proddf.h + 2*proddf.h*proddf.l\n",
    "\n",
    "# remove the two prods without dim\n",
    "proddf = proddf[pd.notnull(proddf.w)]"
   ]
  },
  {
   "cell_type": "code",
   "execution_count": 6,
   "metadata": {
    "collapsed": false
   },
   "outputs": [],
   "source": [
    "def get_order(size_range=xrange(2,5)):\n",
    "    '''Randomly pick a number of products.'''\n",
    "    return proddf.loc[np.random.choice(proddf.index, np.random.choice(size_range))]"
   ]
  },
  {
   "cell_type": "code",
   "execution_count": 266,
   "metadata": {
    "collapsed": false
   },
   "outputs": [],
   "source": [
    "def optimal_pack(orderdf, boxdf=boxdf, inter=True):\n",
    "    '''Find a way to pack a list of products in a order box, optimizing for the smallest order box surface area.'''\n",
    "    \n",
    "    # get the total volume and maximum dimensions of the products\n",
    "    tot_vol = max(orderdf.v)\n",
    "    max_w = max(orderdf.w)\n",
    "    max_l = max(orderdf.l)\n",
    "    max_h = max(orderdf.h)\n",
    "    \n",
    "    # order the products by surface area\n",
    "    orderdf = orderdf.sort('sa', ascending=False)\n",
    "    \n",
    "   \n",
    "    # step through the order boxes, from smallest surface area to largest\n",
    "    for boxindex in boxdf.index:\n",
    "        box = boxdf.loc[boxindex]\n",
    "\n",
    "        # check to make sure the volume of the box is at least the total volume of the products,\n",
    "        # and the dimensions are at least the maximum dimensions of the products\n",
    "        if box.v < tot_vol or box.w < max_w or box.l < max_l or box.h < max_h:\n",
    "            continue\n",
    "            \n",
    "        # initialize the list of corners\n",
    "        corners = [(0, 0, 0)]\n",
    "        \n",
    "        # set the list of packed products to empty list\n",
    "        pack_list = []\n",
    "            \n",
    "        # step through the product list from largest surface area to largest\n",
    "        for prodindex in orderdf.index:\n",
    "            prod = proddf.loc[prodindex]\n",
    "            \n",
    "            # set the corner to None\n",
    "            corner = None\n",
    "\n",
    "            # step through the corner list, seeing where the product fits\n",
    "            for c in corners:\n",
    "                \n",
    "                # does prod fit at c?\n",
    "                # 1. does it fit in box?\n",
    "                if box.l < c[0] + prod.l or box.w < c[1] + prod.l or box.h < c[2] + prod.h:\n",
    "                    continue\n",
    "                \n",
    "                # 2. does it intersect with any of the products already in the box?\n",
    "                if inter and intersects_packed(prod, c, pack_list):\n",
    "                    continue\n",
    "                \n",
    "                else:\n",
    "                    corner = c\n",
    "                    break\n",
    "\n",
    "            if corner:\n",
    "                pack_list.append([prodindex, corner])\n",
    "                corners.remove(corner)\n",
    "                corners.append((corner[0] + prod.l, corner[1], corner[2]))\n",
    "                corners.append((corner[0], corner[1] + prod.w, corner[2]))\n",
    "                corners.append((corner[0], corner[1], corner[2] + prod.h))\n",
    "            else:\n",
    "                break\n",
    "\n",
    "        if len(pack_list) < len(orderdf):\n",
    "             continue\n",
    "        return tot_vol, max_w, max_l, max_h, boxindex, pack_list"
   ]
  },
  {
   "cell_type": "code",
   "execution_count": 267,
   "metadata": {
    "collapsed": true
   },
   "outputs": [],
   "source": [
    "lwh = ['l', 'w', 'h']"
   ]
  },
  {
   "cell_type": "code",
   "execution_count": 268,
   "metadata": {
    "collapsed": true
   },
   "outputs": [],
   "source": [
    "def intersects_packed(prod, corner, pack_list):\n",
    "    for prodindex, corner2 in pack_list:\n",
    "        prod2 = proddf.loc[prodindex]\n",
    "        if prods_intersect(prod, corner, prod2, corner2):\n",
    "            return True\n",
    "    return False\n",
    "\n",
    "def prods_intersect(prod1, corner1, prod2, corner2):\n",
    "    a = np.prod([ranges_intersect(\n",
    "                corner1[i],\n",
    "                corner1[i] + prod1[lwh[i]],\n",
    "                corner2[i],\n",
    "                corner2[i] + prod2[lwh[i]]\n",
    "                ) for i in [0,1,2]])\n",
    "    return a\n",
    "\n",
    "def ranges_intersect(s1, s2, t1, t2):\n",
    "    return (s1 <= t1 and t1 < s2) or (t1 < s1 and s1 < t2)"
   ]
  },
  {
   "cell_type": "code",
   "execution_count": 269,
   "metadata": {
    "collapsed": false
   },
   "outputs": [],
   "source": [
    "if np.prod([True, False]):\n",
    "    print 'yes'"
   ]
  },
  {
   "cell_type": "code",
   "execution_count": 270,
   "metadata": {
    "collapsed": false
   },
   "outputs": [
    {
     "data": {
      "text/plain": [
       "0"
      ]
     },
     "execution_count": 270,
     "metadata": {},
     "output_type": "execute_result"
    }
   ],
   "source": [
    "prods_intersect(proddf.iloc[0], (10,0,0), proddf.iloc[0], (0,0,0))"
   ]
  },
  {
   "cell_type": "code",
   "execution_count": 271,
   "metadata": {
    "collapsed": false
   },
   "outputs": [
    {
     "data": {
      "text/html": [
       "<div>\n",
       "<table border=\"1\" class=\"dataframe\">\n",
       "  <thead>\n",
       "    <tr style=\"text-align: right;\">\n",
       "      <th></th>\n",
       "      <th>SKU</th>\n",
       "      <th>Weight (oz)</th>\n",
       "      <th>Length (in)</th>\n",
       "      <th>Width (in)</th>\n",
       "      <th>Height (in)</th>\n",
       "      <th>w</th>\n",
       "      <th>l</th>\n",
       "      <th>h</th>\n",
       "      <th>weight</th>\n",
       "      <th>v</th>\n",
       "      <th>sa</th>\n",
       "    </tr>\n",
       "  </thead>\n",
       "  <tbody>\n",
       "    <tr>\n",
       "      <th>0</th>\n",
       "      <td>SKU-1</td>\n",
       "      <td>29.5</td>\n",
       "      <td>6.625</td>\n",
       "      <td>6.625</td>\n",
       "      <td>9.125</td>\n",
       "      <td>6.625</td>\n",
       "      <td>6.625</td>\n",
       "      <td>9.125</td>\n",
       "      <td>29.5</td>\n",
       "      <td>400.501953</td>\n",
       "      <td>329.59375</td>\n",
       "    </tr>\n",
       "    <tr>\n",
       "      <th>1</th>\n",
       "      <td>SKU-2</td>\n",
       "      <td>36.0</td>\n",
       "      <td>6.625</td>\n",
       "      <td>6.625</td>\n",
       "      <td>9.125</td>\n",
       "      <td>6.625</td>\n",
       "      <td>6.625</td>\n",
       "      <td>9.125</td>\n",
       "      <td>36.0</td>\n",
       "      <td>400.501953</td>\n",
       "      <td>329.59375</td>\n",
       "    </tr>\n",
       "    <tr>\n",
       "      <th>2</th>\n",
       "      <td>SKU-3</td>\n",
       "      <td>20.0</td>\n",
       "      <td>6.625</td>\n",
       "      <td>6.625</td>\n",
       "      <td>9.125</td>\n",
       "      <td>6.625</td>\n",
       "      <td>6.625</td>\n",
       "      <td>9.125</td>\n",
       "      <td>20.0</td>\n",
       "      <td>400.501953</td>\n",
       "      <td>329.59375</td>\n",
       "    </tr>\n",
       "    <tr>\n",
       "      <th>3</th>\n",
       "      <td>SKU-4</td>\n",
       "      <td>28.5</td>\n",
       "      <td>9.125</td>\n",
       "      <td>6.625</td>\n",
       "      <td>6.625</td>\n",
       "      <td>6.625</td>\n",
       "      <td>9.125</td>\n",
       "      <td>6.625</td>\n",
       "      <td>28.5</td>\n",
       "      <td>400.501953</td>\n",
       "      <td>329.59375</td>\n",
       "    </tr>\n",
       "  </tbody>\n",
       "</table>\n",
       "</div>"
      ],
      "text/plain": [
       "     SKU  Weight (oz)  Length (in)  Width (in)  Height (in)      w      l  \\\n",
       "0  SKU-1         29.5        6.625       6.625        9.125  6.625  6.625   \n",
       "1  SKU-2         36.0        6.625       6.625        9.125  6.625  6.625   \n",
       "2  SKU-3         20.0        6.625       6.625        9.125  6.625  6.625   \n",
       "3  SKU-4         28.5        9.125       6.625        6.625  6.625  9.125   \n",
       "\n",
       "       h  weight           v         sa  \n",
       "0  9.125    29.5  400.501953  329.59375  \n",
       "1  9.125    36.0  400.501953  329.59375  \n",
       "2  9.125    20.0  400.501953  329.59375  \n",
       "3  6.625    28.5  400.501953  329.59375  "
      ]
     },
     "execution_count": 271,
     "metadata": {},
     "output_type": "execute_result"
    }
   ],
   "source": [
    "proddf[:4]"
   ]
  },
  {
   "cell_type": "code",
   "execution_count": 306,
   "metadata": {
    "collapsed": false
   },
   "outputs": [
    {
     "name": "stdout",
     "output_type": "stream",
     "text": [
      "672.0 16.0 12.0 9.5 7 [[215, (0, 0, 0)], [12, (0, 0, 3.5)], [37, (7.375, 0, 3.5)]]\n"
     ]
    }
   ],
   "source": [
    "o = get_order(size_range=[3])\n",
    "tot_vol, max_w, max_l, max_h, boxindex, pack_list = optimal_pack(o)\n",
    "print tot_vol, max_w, max_l, max_h, boxindex, pack_list"
   ]
  },
  {
   "cell_type": "code",
   "execution_count": 311,
   "metadata": {
    "collapsed": false
   },
   "outputs": [
    {
     "data": {
      "text/html": [
       "<div>\n",
       "<table border=\"1\" class=\"dataframe\">\n",
       "  <thead>\n",
       "    <tr style=\"text-align: right;\">\n",
       "      <th></th>\n",
       "      <th>SKU</th>\n",
       "      <th>Weight (oz)</th>\n",
       "      <th>Length (in)</th>\n",
       "      <th>Width (in)</th>\n",
       "      <th>Height (in)</th>\n",
       "      <th>w</th>\n",
       "      <th>l</th>\n",
       "      <th>h</th>\n",
       "      <th>weight</th>\n",
       "      <th>v</th>\n",
       "      <th>sa</th>\n",
       "    </tr>\n",
       "  </thead>\n",
       "  <tbody>\n",
       "    <tr>\n",
       "      <th>12</th>\n",
       "      <td>SKU-13</td>\n",
       "      <td>13.0</td>\n",
       "      <td>7.375</td>\n",
       "      <td>2.25</td>\n",
       "      <td>9.5</td>\n",
       "      <td>2.25</td>\n",
       "      <td>7.375</td>\n",
       "      <td>9.5</td>\n",
       "      <td>13.0</td>\n",
       "      <td>157.640625</td>\n",
       "      <td>216.0625</td>\n",
       "    </tr>\n",
       "    <tr>\n",
       "      <th>215</th>\n",
       "      <td>SKU-216</td>\n",
       "      <td>82.0</td>\n",
       "      <td>12.000</td>\n",
       "      <td>16.00</td>\n",
       "      <td>3.5</td>\n",
       "      <td>16.00</td>\n",
       "      <td>12.000</td>\n",
       "      <td>3.5</td>\n",
       "      <td>82.0</td>\n",
       "      <td>672.000000</td>\n",
       "      <td>580.0000</td>\n",
       "    </tr>\n",
       "    <tr>\n",
       "      <th>37</th>\n",
       "      <td>SKU-38</td>\n",
       "      <td>35.2</td>\n",
       "      <td>11.000</td>\n",
       "      <td>4.50</td>\n",
       "      <td>2.0</td>\n",
       "      <td>4.50</td>\n",
       "      <td>11.000</td>\n",
       "      <td>2.0</td>\n",
       "      <td>35.2</td>\n",
       "      <td>99.000000</td>\n",
       "      <td>161.0000</td>\n",
       "    </tr>\n",
       "  </tbody>\n",
       "</table>\n",
       "</div>"
      ],
      "text/plain": [
       "         SKU  Weight (oz)  Length (in)  Width (in)  Height (in)      w  \\\n",
       "12    SKU-13         13.0        7.375        2.25          9.5   2.25   \n",
       "215  SKU-216         82.0       12.000       16.00          3.5  16.00   \n",
       "37    SKU-38         35.2       11.000        4.50          2.0   4.50   \n",
       "\n",
       "          l    h  weight           v        sa  \n",
       "12    7.375  9.5    13.0  157.640625  216.0625  \n",
       "215  12.000  3.5    82.0  672.000000  580.0000  \n",
       "37   11.000  2.0    35.2   99.000000  161.0000  "
      ]
     },
     "execution_count": 311,
     "metadata": {},
     "output_type": "execute_result"
    }
   ],
   "source": [
    "o"
   ]
  },
  {
   "cell_type": "code",
   "execution_count": 310,
   "metadata": {
    "collapsed": false
   },
   "outputs": [
    {
     "data": {
      "text/plain": [
       "Box                  B8\n",
       "Box_length (in)      19\n",
       "Box_width (in)       16\n",
       "Box_height (in)      15\n",
       "w                    16\n",
       "l                    19\n",
       "h                    15\n",
       "v                  4560\n",
       "sa                 1658\n",
       "Name: 7, dtype: object"
      ]
     },
     "execution_count": 310,
     "metadata": {},
     "output_type": "execute_result"
    }
   ],
   "source": [
    "boxdf.loc[boxindex]"
   ]
  },
  {
   "cell_type": "code",
   "execution_count": 16,
   "metadata": {
    "collapsed": true
   },
   "outputs": [],
   "source": [
    "l.remove(12)"
   ]
  },
  {
   "cell_type": "code",
   "execution_count": 17,
   "metadata": {
    "collapsed": false
   },
   "outputs": [
    {
     "data": {
      "text/plain": [
       "[34]"
      ]
     },
     "execution_count": 17,
     "metadata": {},
     "output_type": "execute_result"
    }
   ],
   "source": [
    "l"
   ]
  },
  {
   "cell_type": "code",
   "execution_count": 25,
   "metadata": {
    "collapsed": false
   },
   "outputs": [
    {
     "data": {
      "text/plain": [
       "19"
      ]
     },
     "execution_count": 25,
     "metadata": {},
     "output_type": "execute_result"
    }
   ],
   "source": [
    "len(boxdf)"
   ]
  },
  {
   "cell_type": "code",
   "execution_count": null,
   "metadata": {
    "collapsed": false
   },
   "outputs": [],
   "source": []
  },
  {
   "cell_type": "code",
   "execution_count": 59,
   "metadata": {
    "collapsed": true
   },
   "outputs": [],
   "source": [
    "def draw_box(ax, l = 1, w = 1, h = 1, x = 0, y = 0, z = 0, col='b'):\n",
    "\n",
    "    ax.plot([x, x + l], [y, y], [z, z], color = col)\n",
    "    ax.plot([x, x + l], [y + w, y + w], [z, z], color = col)\n",
    "    ax.plot([x, x + l], [y, y], [z + h, z + h], color = col)\n",
    "    ax.plot([x, x + l], [y + w, y + w], [z + h, z + h], color = col)\n",
    "    \n",
    "    ax.plot([x, x], [y, y + w], [z, z], color = col)\n",
    "    ax.plot([x, x], [y, y + w], [z + h, z + h], color = col)\n",
    "    ax.plot([x + l, x + l], [y, y + w], [z, z], color = col)\n",
    "    ax.plot([x + l, x + l], [y, y + w], [z + h, z + h], color = col)\n",
    "    \n",
    "    ax.plot([x, x], [y, y], [z, z + h], color = col)\n",
    "    ax.plot([x + l, x + l], [y, y], [z, z + h], color = col)\n",
    "    ax.plot([x, x], [y + w, y + w], [z, z + h], color = col)\n",
    "    ax.plot([x + l, x + l], [y + w, y + w], [z, z + h], color = col)"
   ]
  },
  {
   "cell_type": "code",
   "execution_count": 118,
   "metadata": {
    "collapsed": true
   },
   "outputs": [],
   "source": [
    "def draw_packing(ax, boxindex, pack_list):\n",
    "    \n",
    "    # draw the order box\n",
    "    box = boxdf.loc[boxindex]\n",
    "    draw_box(ax, l = box.l, w = box.w, h = box.h)\n",
    "    \n",
    "    # step through the pack_list\n",
    "    for ind, [prodindex, corner] in enumerate(pack_list):\n",
    "        prod = proddf.loc[prodindex]\n",
    "        draw_box(ax, l = prod.l, w = prod.w, h = prod.h, x = corner[0], y = corner[1], z = corner[2], col=color_list[ind])"
   ]
  },
  {
   "cell_type": "code",
   "execution_count": 308,
   "metadata": {
    "collapsed": false
   },
   "outputs": [
    {
     "data": {
      "image/png": "[encoded data removed]",
      "text/plain": [
       "<matplotlib.figure.Figure at 0x7f2631ab5790>"
      ]
     },
     "metadata": {},
     "output_type": "display_data"
    }
   ],
   "source": [
    "fig = plt.figure()\n",
    "ax  = fig.add_subplot(111, projection = '3d')\n",
    "#for i in xrange(20):\n",
    "#    draw_box(ax, x = np.random.choice(xrange(10)), y = np.random.choice(xrange(10)), z = np.random.choice(xrange(10)))\n",
    "draw_packing(ax, boxindex, pack_list)\n",
    "plt.axis('off')\n",
    "fig.savefig('first_pic.png', dpi=300)"
   ]
  },
  {
   "cell_type": "code",
   "execution_count": null,
   "metadata": {
    "collapsed": true
   },
   "outputs": [],
   "source": []
  },
  {
   "cell_type": "code",
   "execution_count": 309,
   "metadata": {
    "collapsed": false
   },
   "outputs": [
    {
     "data": {
      "text/plain": [
       "[[215, (0, 0, 0)], [12, (0, 0, 3.5)], [37, (7.375, 0, 3.5)]]"
      ]
     },
     "execution_count": 309,
     "metadata": {},
     "output_type": "execute_result"
    }
   ],
   "source": [
    "pack_list"
   ]
  },
  {
   "cell_type": "code",
   "execution_count": 235,
   "metadata": {
    "collapsed": false
   },
   "outputs": [],
   "source": [
    "try:\n",
    "    for i in xrange(100):\n",
    "        o = get_order(size_range=[6])\n",
    "        optimal_pack(o)\n",
    "except:\n",
    "    print o"
   ]
  },
  {
   "cell_type": "code",
   "execution_count": 227,
   "metadata": {
    "collapsed": false
   },
   "outputs": [
    {
     "data": {
      "text/html": [
       "<div>\n",
       "<table border=\"1\" class=\"dataframe\">\n",
       "  <thead>\n",
       "    <tr style=\"text-align: right;\">\n",
       "      <th></th>\n",
       "      <th>SKU</th>\n",
       "      <th>Weight (oz)</th>\n",
       "      <th>Length (in)</th>\n",
       "      <th>Width (in)</th>\n",
       "      <th>Height (in)</th>\n",
       "      <th>w</th>\n",
       "      <th>l</th>\n",
       "      <th>h</th>\n",
       "      <th>weight</th>\n",
       "      <th>v</th>\n",
       "      <th>sa</th>\n",
       "    </tr>\n",
       "  </thead>\n",
       "  <tbody>\n",
       "    <tr>\n",
       "      <th>351</th>\n",
       "      <td>SKU-352</td>\n",
       "      <td>17.6</td>\n",
       "      <td>10.000</td>\n",
       "      <td>8.700</td>\n",
       "      <td>3.600</td>\n",
       "      <td>8.700</td>\n",
       "      <td>10.000</td>\n",
       "      <td>3.600</td>\n",
       "      <td>17.6</td>\n",
       "      <td>313.200000</td>\n",
       "      <td>308.64000</td>\n",
       "    </tr>\n",
       "    <tr>\n",
       "      <th>312</th>\n",
       "      <td>SKU-313</td>\n",
       "      <td>32.0</td>\n",
       "      <td>10.000</td>\n",
       "      <td>6.850</td>\n",
       "      <td>4.680</td>\n",
       "      <td>6.850</td>\n",
       "      <td>10.000</td>\n",
       "      <td>4.680</td>\n",
       "      <td>32.0</td>\n",
       "      <td>320.580000</td>\n",
       "      <td>294.71600</td>\n",
       "    </tr>\n",
       "    <tr>\n",
       "      <th>200</th>\n",
       "      <td>SKU-201</td>\n",
       "      <td>44.0</td>\n",
       "      <td>8.000</td>\n",
       "      <td>9.500</td>\n",
       "      <td>5.000</td>\n",
       "      <td>9.500</td>\n",
       "      <td>8.000</td>\n",
       "      <td>5.000</td>\n",
       "      <td>44.0</td>\n",
       "      <td>380.000000</td>\n",
       "      <td>327.00000</td>\n",
       "    </tr>\n",
       "    <tr>\n",
       "      <th>297</th>\n",
       "      <td>SKU-298</td>\n",
       "      <td>30.0</td>\n",
       "      <td>6.625</td>\n",
       "      <td>6.625</td>\n",
       "      <td>9.125</td>\n",
       "      <td>6.625</td>\n",
       "      <td>6.625</td>\n",
       "      <td>9.125</td>\n",
       "      <td>30.0</td>\n",
       "      <td>400.501953</td>\n",
       "      <td>329.59375</td>\n",
       "    </tr>\n",
       "    <tr>\n",
       "      <th>296</th>\n",
       "      <td>SKU-297</td>\n",
       "      <td>37.0</td>\n",
       "      <td>6.625</td>\n",
       "      <td>6.625</td>\n",
       "      <td>9.125</td>\n",
       "      <td>6.625</td>\n",
       "      <td>6.625</td>\n",
       "      <td>9.125</td>\n",
       "      <td>37.0</td>\n",
       "      <td>400.501953</td>\n",
       "      <td>329.59375</td>\n",
       "    </tr>\n",
       "    <tr>\n",
       "      <th>296</th>\n",
       "      <td>SKU-297</td>\n",
       "      <td>37.0</td>\n",
       "      <td>6.625</td>\n",
       "      <td>6.625</td>\n",
       "      <td>9.125</td>\n",
       "      <td>6.625</td>\n",
       "      <td>6.625</td>\n",
       "      <td>9.125</td>\n",
       "      <td>37.0</td>\n",
       "      <td>400.501953</td>\n",
       "      <td>329.59375</td>\n",
       "    </tr>\n",
       "  </tbody>\n",
       "</table>\n",
       "</div>"
      ],
      "text/plain": [
       "         SKU  Weight (oz)  Length (in)  Width (in)  Height (in)      w  \\\n",
       "351  SKU-352         17.6       10.000       8.700        3.600  8.700   \n",
       "312  SKU-313         32.0       10.000       6.850        4.680  6.850   \n",
       "200  SKU-201         44.0        8.000       9.500        5.000  9.500   \n",
       "297  SKU-298         30.0        6.625       6.625        9.125  6.625   \n",
       "296  SKU-297         37.0        6.625       6.625        9.125  6.625   \n",
       "296  SKU-297         37.0        6.625       6.625        9.125  6.625   \n",
       "\n",
       "          l      h  weight           v         sa  \n",
       "351  10.000  3.600    17.6  313.200000  308.64000  \n",
       "312  10.000  4.680    32.0  320.580000  294.71600  \n",
       "200   8.000  5.000    44.0  380.000000  327.00000  \n",
       "297   6.625  9.125    30.0  400.501953  329.59375  \n",
       "296   6.625  9.125    37.0  400.501953  329.59375  \n",
       "296   6.625  9.125    37.0  400.501953  329.59375  "
      ]
     },
     "execution_count": 227,
     "metadata": {},
     "output_type": "execute_result"
    }
   ],
   "source": [
    "o"
   ]
  },
  {
   "cell_type": "code",
   "execution_count": 231,
   "metadata": {
    "collapsed": false
   },
   "outputs": [
    {
     "data": {
      "text/plain": [
       "(400.501953125,\n",
       " 9.5,\n",
       " 10.0,\n",
       " 9.125,\n",
       " 8,\n",
       " [[297, (0, 0, 0)],\n",
       "  [296, (6.625, 0, 0)],\n",
       "  [296, (0, 6.625, 0)],\n",
       "  [200, (13.25, 0, 0)],\n",
       "  [351, (13.25, 9.5, 0)],\n",
       "  [312, (13.25, 0, 5.0)]])"
      ]
     },
     "execution_count": 231,
     "metadata": {},
     "output_type": "execute_result"
    }
   ],
   "source": [
    "optimal_pack(o)"
   ]
  },
  {
   "cell_type": "code",
   "execution_count": 260,
   "metadata": {
    "collapsed": false
   },
   "outputs": [],
   "source": [
    "with_intersect = [optimal_pack(get_order(size_range=[6])) for i in xrange(2000)]"
   ]
  },
  {
   "cell_type": "code",
   "execution_count": 261,
   "metadata": {
    "collapsed": false
   },
   "outputs": [
    {
     "data": {
      "text/plain": [
       "107"
      ]
     },
     "execution_count": 261,
     "metadata": {},
     "output_type": "execute_result"
    }
   ],
   "source": [
    "len([i for i in with_intersect if not i])"
   ]
  },
  {
   "cell_type": "code",
   "execution_count": 262,
   "metadata": {
    "collapsed": false
   },
   "outputs": [
    {
     "data": {
      "image/png": "[encoded data removed]",
      "text/plain": [
       "<matplotlib.figure.Figure at 0x7f2630113390>"
      ]
     },
     "metadata": {},
     "output_type": "display_data"
    }
   ],
   "source": [
    "pd.DataFrame([i[-2] for i in with_intersect if i]).hist(bins=19)\n",
    "plt.savefig('1.png')"
   ]
  },
  {
   "cell_type": "code",
   "execution_count": 263,
   "metadata": {
    "collapsed": true
   },
   "outputs": [],
   "source": [
    "without_intersect = [optimal_pack(get_order(size_range=[6]), inter=False) for i in xrange(2000)]"
   ]
  },
  {
   "cell_type": "code",
   "execution_count": 264,
   "metadata": {
    "collapsed": false
   },
   "outputs": [
    {
     "data": {
      "text/plain": [
       "123"
      ]
     },
     "execution_count": 264,
     "metadata": {},
     "output_type": "execute_result"
    }
   ],
   "source": [
    "len([i for i in without_intersect if not i])"
   ]
  },
  {
   "cell_type": "code",
   "execution_count": 265,
   "metadata": {
    "collapsed": false
   },
   "outputs": [
    {
     "data": {
      "image/png": "[encoded data removed]",
      "text/plain": [
       "<matplotlib.figure.Figure at 0x7f262b38f550>"
      ]
     },
     "metadata": {},
     "output_type": "display_data"
    }
   ],
   "source": [
    "pd.DataFrame([i[-2] for i in without_intersect if i]).hist(bins=19)\n",
    "plt.savefig('2.png')"
   ]
  },
  {
   "cell_type": "code",
   "execution_count": null,
   "metadata": {
    "collapsed": true
   },
   "outputs": [],
   "source": []
  }
 ],
 "metadata": {
  "kernelspec": {
   "display_name": "Python 2",
   "language": "python",
   "name": "python2"
  },
  "language_info": {
   "codemirror_mode": {
    "name": "ipython",
    "version": 2
   },
   "file_extension": ".py",
   "mimetype": "text/x-python",
   "name": "python",
   "nbconvert_exporter": "python",
   "pygments_lexer": "ipython2",
   "version": "2.7.6"
  }
 },
 "nbformat": 4,
 "nbformat_minor": 0
}
