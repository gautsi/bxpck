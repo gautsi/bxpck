{
 "cells": [
  {
   "cell_type": "code",
   "execution_count": 117,
   "metadata": {
    "collapsed": false
   },
   "outputs": [],
   "source": [
    "import pandas as pd\n",
    "import numpy as np\n",
    "import matplotlib.pyplot as plt\n",
    "import seaborn as sns"
   ]
  },
  {
   "cell_type": "code",
   "execution_count": 112,
   "metadata": {
    "collapsed": true
   },
   "outputs": [],
   "source": [
    "%matplotlib inline"
   ]
  },
  {
   "cell_type": "code",
   "execution_count": 27,
   "metadata": {
    "collapsed": false
   },
   "outputs": [],
   "source": [
    "boxdf = pd.read_csv('box.csv')\n",
    "proddf = pd.read_csv('sku.csv')"
   ]
  },
  {
   "cell_type": "code",
   "execution_count": 72,
   "metadata": {
    "collapsed": false
   },
   "outputs": [],
   "source": [
    "# add columns with shorter names\n",
    "boxdf['w'] = boxdf['Box_width (in)']\n",
    "boxdf['l'] = boxdf['Box_length (in)']\n",
    "boxdf['h'] = boxdf['Box_height (in)']\n",
    "proddf['w'] = proddf['Width (in)']\n",
    "proddf['l'] = proddf['Length (in)']\n",
    "proddf['h'] = proddf['Height (in)']\n",
    "proddf['weight'] = proddf['Weight (oz)']\n",
    "\n",
    "# add volume and surface area columns\n",
    "boxdf['v'] = boxdf.w*boxdf.l*boxdf.h\n",
    "boxdf['sa'] = 2*boxdf.w*boxdf.l + 2*boxdf.w*boxdf.h + 2*boxdf.h*boxdf.l\n",
    "proddf['v'] = proddf.w*proddf.l*proddf.h\n",
    "proddf['sa'] = 2*proddf.w*proddf.l + 2*proddf.w*proddf.h + 2*proddf.h*proddf.l\n",
    "\n",
    "# remove the two prods without dim\n",
    "proddf = proddf[pd.notnull(proddf.w)]"
   ]
  },
  {
   "cell_type": "code",
   "execution_count": 99,
   "metadata": {
    "collapsed": false
   },
   "outputs": [],
   "source": [
    "def get_order(size_range=xrange(2,5)):\n",
    "    '''Randomly pick a number of products.'''\n",
    "    return proddf.loc[np.random.choice(proddf.index, np.random.choice(size_range))]"
   ]
  },
  {
   "cell_type": "code",
   "execution_count": 133,
   "metadata": {
    "collapsed": false
   },
   "outputs": [],
   "source": [
    "def optimal_pack(orderdf, boxdf=boxdf):\n",
    "    '''Find a way to pack a list of products in a order box, optimizing for the smallest order box surface area.'''\n",
    "    \n",
    "    # get the total volume and maximum dimensions of the products\n",
    "    tot_vol = max(orderdf.v)\n",
    "    max_w = max(orderdf.w)\n",
    "    max_l = max(orderdf.l)\n",
    "    max_h = max(orderdf.h)\n",
    "    \n",
    "    # order the products by surface area\n",
    "    orderdf = orderdf.sort('sa', ascending=False)\n",
    "    \n",
    "    # step through the order boxes, from smallest surface area to largest\n",
    "    for boxindex in boxdf.index:\n",
    "        box = boxdf.loc[boxindex]\n",
    "\n",
    "        # check to make sure the volume of the box is at least the total volume of the products,\n",
    "        # and the dimensions are at least the maximum dimensions of the products\n",
    "        if box.v < tot_vol or box.w < max_w or box.l < max_l or box.h < max_h:\n",
    "            continue\n",
    "        \n",
    "        return tot_vol, max_w, max_l, max_h, box"
   ]
  },
  {
   "cell_type": "code",
   "execution_count": 135,
   "metadata": {
    "collapsed": false
   },
   "outputs": [
    {
     "name": "stdout",
     "output_type": "stream",
     "text": [
      "1138.28125 7.75 11.75 12.5 Box                  B8\n",
      "Box_length (in)      19\n",
      "Box_width (in)       16\n",
      "Box_height (in)      15\n",
      "w                    16\n",
      "l                    19\n",
      "h                    15\n",
      "v                  4560\n",
      "sa                 1658\n",
      "Name: 7, dtype: object\n"
     ]
    }
   ],
   "source": [
    "o = get_order()\n",
    "tot_vol, max_w, max_l, max_h, box = optimal_pack(o)\n",
    "print tot_vol, max_w, max_l, max_h, box"
   ]
  },
  {
   "cell_type": "code",
   "execution_count": null,
   "metadata": {
    "collapsed": false
   },
   "outputs": [],
   "source": []
  },
  {
   "cell_type": "code",
   "execution_count": null,
   "metadata": {
    "collapsed": true
   },
   "outputs": [],
   "source": []
  }
 ],
 "metadata": {
  "kernelspec": {
   "display_name": "Python 2",
   "language": "python",
   "name": "python2"
  },
  "language_info": {
   "codemirror_mode": {
    "name": "ipython",
    "version": 2
   },
   "file_extension": ".py",
   "mimetype": "text/x-python",
   "name": "python",
   "nbconvert_exporter": "python",
   "pygments_lexer": "ipython2",
   "version": "2.7.6"
  }
 },
 "nbformat": 4,
 "nbformat_minor": 0
}
